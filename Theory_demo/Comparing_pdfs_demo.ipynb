{
  "nbformat": 4,
  "nbformat_minor": 0,
  "metadata": {
    "colab": {
      "name": "MLSP.ipynb",
      "provenance": [],
      "collapsed_sections": [],
      "history_visible": true
    },
    "kernelspec": {
      "name": "python3",
      "display_name": "Python 3"
    },
    "language_info": {
      "name": "python"
    }
  },
  "cells": [
    {
      "cell_type": "markdown",
      "metadata": {
        "id": "YHrlhbi_s8sC"
      },
      "source": [
        "In this notebook, we demonstrate the ways in which two pdf's can be compared. Here, we show the following for discrete random variables:\n",
        "\n",
        "\n",
        "1.   Self entropy for a pmf\n",
        "2.   Cross entropy between two pmf's\n",
        "3.   K-L divergence between two pmf's\n",
        "4.   Mutual Information between two rv's\n",
        "\n",
        "\n",
        "\n"
      ]
    },
    {
      "cell_type": "code",
      "metadata": {
        "id": "yCd6I1deOeh9"
      },
      "source": [
        "#import libraries\n",
        "from matplotlib import pyplot\n",
        "import numpy as np"
      ],
      "execution_count": null,
      "outputs": []
    },
    {
      "cell_type": "markdown",
      "metadata": {
        "id": "eWri5oDstxYV"
      },
      "source": [
        "## **1. Self entropy for a pmf**\n",
        "\n",
        "Considering a discrete random variable $x$ with the probability mass function $p(x)$, the self entropy is defined as\n",
        "$$H(p(x)) = - \\sum_{x} p(x) \\log(p(x))$$\n",
        "Here we calculate the self entropy of the following pmf\n",
        "$$p(x) = \\begin{cases} \n",
        "      0.2 & x = 0 \\\\\n",
        "      0.7 & x = 1 \\\\\n",
        "      0.1 & x = 2 \\\\\n",
        "      0 & otherwise \n",
        "   \\end{cases}$$"
      ]
    },
    {
      "cell_type": "code",
      "metadata": {
        "id": "fqOrJNinsmVg",
        "colab": {
          "base_uri": "https://localhost:8080/"
        },
        "outputId": "ff81c000-4cc6-48c7-d374-0f4c1b3aca72"
      },
      "source": [
        "#define pmf\n",
        "x = ['0','1','2']\n",
        "p = [0.20,0.70,0.10]\n",
        "#print('P=%.3f ' % (sum(p)))\n",
        "pyplot.bar(x, p)\n",
        "pyplot.show()\n",
        "\n",
        "#calculate entropy\n",
        "H_p = -sum(p[i]*np.log(p[i]) for i in range (len(p))) \n",
        "print('Self entropy H(p(x)): %.3f' %H_p)"
      ],
      "execution_count": null,
      "outputs": [
        {
          "output_type": "display_data",
          "data": {
            "image/png": "[encoded data removed]",
            "text/plain": [
              "<Figure size 432x288 with 1 Axes>"
            ]
          },
          "metadata": {
            "needs_background": "light"
          }
        },
        {
          "output_type": "stream",
          "name": "stdout",
          "text": [
            "Self entropy H(p(x)): 0.802\n"
          ]
        }
      ]
    },
    {
      "cell_type": "markdown",
      "metadata": {
        "id": "9HApPApR22jM"
      },
      "source": [
        "## **2. Cross entropy between 2 pmf's**\n",
        "\n",
        "Consider a discrete random variable with 2 probability mass functions p(x) and q(x), the cross entropy is defined as\n",
        "$$H(p(x),q(x)) = -\\sum_x p(x) log(q(x))$$\n",
        "The pmf for p(x) is same as above. The pmf for q(x) is taken to be\n",
        "$$q(x) = \\begin{cases} \n",
        "      0.6 & x = 0 \\\\\n",
        "      0.3 & x = 1 \\\\\n",
        "      0.1 & x = 2 \\\\\n",
        "      0 & otherwise \n",
        "   \\end{cases}$$\n",
        "We calculate the cross entropy between these two pmf's"
      ]
    },
    {
      "cell_type": "code",
      "metadata": {
        "colab": {
          "base_uri": "https://localhost:8080/"
        },
        "id": "EKIU2SKq01-y",
        "outputId": "69374d8c-7aea-47ff-91f8-5f7dc6e10c25"
      },
      "source": [
        "#define pmf\n",
        "x = ['0','1','2']\n",
        "p = [0.20,0.70,0.10]\n",
        "q = [0.60,0.30,0.10]\n",
        "#print('P=%.3f Q=%.3f' % (sum(p), sum(q)))\n",
        "pyplot.subplot(2,1,1)\n",
        "pyplot.bar(x, p)\n",
        "pyplot.subplot(2,1,2)\n",
        "pyplot.bar(x, q)\n",
        "pyplot.show()\n",
        "\n",
        "#calculate cross entropy\n",
        "H_pq = -sum(p[i]*np.log(q[i]) for i in range (len(p))) \n",
        "print('Cross Entropy H(p(x),q(x)): %.3f' %H_pq)"
      ],
      "execution_count": null,
      "outputs": [
        {
          "output_type": "display_data",
          "data": {
            "image/png": "[encoded data removed]",
            "text/plain": [
              "<Figure size 432x288 with 2 Axes>"
            ]
          },
          "metadata": {
            "needs_background": "light"
          }
        },
        {
          "output_type": "stream",
          "name": "stdout",
          "text": [
            "Cross Entropy H(p(x),q(x)): 1.175\n"
          ]
        }
      ]
    },
    {
      "cell_type": "markdown",
      "metadata": {
        "id": "4AE9a6yI5JK2"
      },
      "source": [
        "## **3. KL divergence between 2 pmf's**\n",
        "\n",
        "Consider a discrete random variable with 2 probability mass functions p(x) and q(x), the cross entropy is defined as\n",
        "$$KL(p(x)|| q(x)) = -\\sum_x p(x) log(\\frac{q(x)}{p(x)})$$\n",
        "Here, we calculate the KL divergence between the two pmf's defined in the above sections"
      ]
    },
    {
      "cell_type": "code",
      "metadata": {
        "colab": {
          "base_uri": "https://localhost:8080/"
        },
        "id": "EDX2YXHy4xCl",
        "outputId": "4ebb59f2-99fa-4ae5-d1db-1ff672aa938c"
      },
      "source": [
        "#define pmf\n",
        "x = ['0','1','2']\n",
        "p = [0.20,0.70,0.10]\n",
        "q = [0.60,0.30,0.10]\n",
        "#print('P=%.3f Q=%.3f' % (sum(p), sum(q)))\n",
        "pyplot.subplot(2,1,1)\n",
        "pyplot.bar(x, p)\n",
        "pyplot.subplot(2,1,2)\n",
        "pyplot.bar(x, q)\n",
        "pyplot.show()\n",
        "\n",
        "#calculate KL divergence\n",
        "KL_pq = -sum(p[i]*np.log(q[i]/p[i]) for i in range (len(p))) \n",
        "print('KL divergence KL(p(x)|| q(x)): %.3f' %KL_pq)"
      ],
      "execution_count": null,
      "outputs": [
        {
          "output_type": "display_data",
          "data": {
            "image/png": "[encoded data removed]",
            "text/plain": [
              "<Figure size 432x288 with 2 Axes>"
            ]
          },
          "metadata": {
            "needs_background": "light"
          }
        },
        {
          "output_type": "stream",
          "name": "stdout",
          "text": [
            "KL divergence KL(p(x)|| q(x)): 0.373\n"
          ]
        }
      ]
    },
    {
      "cell_type": "markdown",
      "metadata": {
        "id": "iSHS4m6l6nUn"
      },
      "source": [
        "## **4. Mutual information between two rv's X and Y**\n",
        "\n",
        "Consider two radom variables X and Y with marginal pmf's $p(x)$ and $p(y)$ respectively and the joint pmf as $p(x,y)$. The mutual information is defined as\n",
        "$$I(X;Y) = H(X) - H(X|Y) = H(X) + H(Y) - H(X,Y)$$\n",
        "which can be expressed in terms of KL divergence as \n",
        "$$I(X;Y) = KL(p(x,y)|| p(x)p(y)) = \\sum_{x,y} log\\frac{p(x,y)}{p(x)p(y)} $$ \n",
        "\n",
        "\n",
        "Let $p(x,y)$ be defined as:\n",
        "\n",
        "$$p(0, 0) = 0.2 \\qquad p(0,1) = 0.05 \\qquad p(0, 2) = 0.1$$\n",
        "\n",
        "$$p(1, 0) = 0.05 \\qquad p(1, 1) = 0.15 \\qquad p(1, 2) = 0.2$$\n",
        "\n",
        "$$p(2, 0) = 0.1 \\qquad p(2, 1) = 0.1 \\qquad p(2, 2) = 0.05$$\n",
        "\n",
        "We calculate the mutual information between these two rv's"
      ]
    },
    {
      "cell_type": "code",
      "metadata": {
        "id": "vMZaezju6HqU",
        "colab": {
          "base_uri": "https://localhost:8080/"
        },
        "outputId": "5d506c78-0dea-4ad2-da11-990e6495a7d3"
      },
      "source": [
        "#define joint pmf\n",
        "x = ['0','1','2']\n",
        "p = [[0.2, 0.05, 0.1], [0.05, 0.15, 0.2], [0.1, 0.1, 0.05]]\n",
        "\n",
        "#define marginal pmf\n",
        "p_x = np.sum(p, axis=0)\n",
        "p_y = np.sum(p, axis=1)\n",
        "\n",
        "#print('P_x=%.3f P_y=%.3f' % (sum(p_x), sum(p_y)))\n",
        "pyplot.subplot(2,1,1)\n",
        "pyplot.bar(x, p_x)\n",
        "pyplot.subplot(2,1,2)\n",
        "pyplot.bar(x, p_y)\n",
        "pyplot.show()\n",
        "\n",
        "#calculate mutual information\n",
        "MI_xy = 0\n",
        "for i in range (np.shape(p)[0]):\n",
        "  for j in range (np.shape(p)[1]):\n",
        "    MI_xy += np.log(p[i][j]/(p_x[i]*p_y[j]))\n",
        "print('Mutual Information I(X; Y): %.3f' %MI_xy)"
      ],
      "execution_count": null,
      "outputs": [
        {
          "output_type": "display_data",
          "data": {
            "image/png": "[encoded data removed]",
            "text/plain": [
              "<Figure size 432x288 with 2 Axes>"
            ]
          },
          "metadata": {
            "needs_background": "light"
          }
        },
        {
          "output_type": "stream",
          "name": "stdout",
          "text": [
            "Mutual Information I(X; Y): -1.043\n"
          ]
        }
      ]
    }
  ]
}