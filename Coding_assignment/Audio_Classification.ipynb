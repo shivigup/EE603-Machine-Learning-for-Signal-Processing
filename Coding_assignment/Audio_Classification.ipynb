{
  "nbformat": 4,
  "nbformat_minor": 0,
  "metadata": {
    "kernelspec": {
      "display_name": "Python 3 (ipykernel)",
      "language": "python",
      "name": "python3"
    },
    "language_info": {
      "codemirror_mode": {
        "name": "ipython",
        "version": 3
      },
      "file_extension": ".py",
      "mimetype": "text/x-python",
      "name": "python",
      "nbconvert_exporter": "python",
      "pygments_lexer": "ipython3",
      "version": "3.9.6"
    },
    "colab": {
      "name": "180730_new.ipynb",
      "provenance": []
    }
  },
  "cells": [
    {
      "cell_type": "markdown",
      "metadata": {
        "id": "tuJO2R6bjahz"
      },
      "source": [
        "# EE603 Coding Assignment\n",
        "- Use python3\n",
        "- Submit your \"rendered\" ipynb, i.e., with outputs of codes (plots and printed values) visible below\n",
        "- Do not change the return variables, as the evaluation is done by test cases based on the variables specified. Only add your code at \"### WRITE YOUR CODE HERE\"\n",
        "- Use only numpy and librosa library for computing and signal processing, no other package allowed\n",
        "- If you are using your mobile phone, you can use colab.research.google.com for coding\n",
        "- Do not define multiple functions using same name. We will be using eval.py to auto evaluate your codes. Please check with sample test cases before submitting. We will share the evaluation test cases with you after the submission deadline.\n",
        "- While submitting this file, change file name from 'YourRollNo.ipynb' to your actual roll no (Eg. 18204279.ipynb)"
      ]
    },
    {
      "cell_type": "code",
      "metadata": {
        "id": "qCkKbfEmjah2"
      },
      "source": [
        "import numpy as np\n",
        "import matplotlib.pyplot as plt\n",
        "import librosa"
      ],
      "execution_count": 1,
      "outputs": []
    },
    {
      "cell_type": "code",
      "metadata": {
        "id": "M2kL0YNEjah3"
      },
      "source": [
        "from glob import glob\n",
        "def readDir(dirname, Fs = 16000):\n",
        "    \n",
        "    '''\n",
        "    Each audio clip should be upto 10s long; split larger audio files into many clips (non-overlapping) \n",
        "\n",
        "    Use load_audio(file) \n",
        "    \n",
        "    Inputs: \n",
        "        dirname: (str) directory name\n",
        "        Fs: (int) sampling rate\n",
        "    Output: \n",
        "        x: np arrays of shape (Nclips, Nsamples) Nsamples correspond to 10s length. Use zero-padding for shorter clips.\n",
        "    '''  \n",
        "\n",
        "\n",
        "    ### WRITE YOUR CODE HERE - 5 MARKS\n",
        "    length_interval = 10*Fs\n",
        "    x = np.empty(shape = (1, length_interval))\n",
        "    for name in glob(dirname + \"/*.wav\"):\n",
        "      audio_file = load_audio(name, Fs)\n",
        "      length = len(audio_file)\n",
        "      to_append = np.zeros(length_interval-length%length_interval)\n",
        "      audio_file_new = np.concatenate((audio_file, to_append))\n",
        "      length_new = len(audio_file_new)\n",
        "      y = np.split(audio_file_new, int(length_new/length_interval))\n",
        "      y = np.array(y)\n",
        "      x = np.concatenate((x, y))\n",
        "\n",
        "    x = np.delete(x, (0), axis=0)\n",
        "    return x "
      ],
      "execution_count": 2,
      "outputs": []
    },
    {
      "cell_type": "code",
      "metadata": {
        "id": "NTzkjiEmjah4"
      },
      "source": [
        "def load_audio(filename, Fs = 16000):\n",
        "    '''\n",
        "    Inputs: \n",
        "        filename: (str) filename\n",
        "        Fs: (int) sampling rate\n",
        "    Output: \n",
        "        x: 1D np array \n",
        "    '''\n",
        "    \n",
        "\n",
        "    ### WRITE YOUR CODE HERE - 2 MARKS\n",
        "    if(filename.endswith(\".wav\")==0):\n",
        "      filename = +\".wav\"\n",
        "    x, sr = librosa.load(path = filename, sr = Fs)\n",
        "    x = np.array(x)\n",
        "    return x"
      ],
      "execution_count": 3,
      "outputs": []
    },
    {
      "cell_type": "code",
      "metadata": {
        "id": "vB6GKlHujah5"
      },
      "source": [
        "def splitData(X, t, testFraction=0.2, randomize = False):\n",
        "    \"\"\"\n",
        "    Split the data randomly into training and test sets\n",
        "    Use numpy functions only\n",
        "    Inputs:\n",
        "        X: (np array of len Nclips) input feature vectors\n",
        "        t: (np array of len Nclips) targets; one hot vectors\n",
        "        testFraction: (float) Nclips_test = testFraction * Nclips\n",
        "    Outputs:\n",
        "        X_train: training set\n",
        "        X_test: test set\n",
        "        t_train: training labels\n",
        "        t_test: test labels\n",
        "    \"\"\"\n",
        "\n",
        "\n",
        "    ### WRITE YOUR CODE HERE - 5 MARKS\n",
        "    Nsamples = t.shape[0]\n",
        "    Ntest = int(testFraction*Nsamples)\n",
        "    Ntrain = Nsamples - Ntest\n",
        "    p = np.random.permutation(Nsamples)\n",
        "    shuffled_X = X[p, :]\n",
        "    shuffled_t = t[p, :]\n",
        "    X_train = shuffled_X[:Ntrain, :]\n",
        "    t_train = shuffled_t[:Ntrain, :]\n",
        "    X_test = shuffled_X[Ntrain:, :]\n",
        "    t_test = shuffled_t[Ntrain:, :]\n",
        "\n",
        "    \n",
        "    return X_train, t_train, X_test, t_test"
      ],
      "execution_count": 4,
      "outputs": []
    },
    {
      "cell_type": "code",
      "metadata": {
        "id": "Zibob1vnjah6"
      },
      "source": [
        "def audio2mfcc(x, n_mfcc = 20, Fs = 16000):\n",
        "    \n",
        "    '''\n",
        "    Compute Mel-frequency cepstral coefficients (MFCCs)\n",
        "    Inputs:\n",
        "        x: np array of shape (Nclips,)\n",
        "        Fs: (int) sampling rate\n",
        "        n_mfcc: (int) number of MFCC features\n",
        "    Output:\n",
        "        X: (np array) MFCC sequence\n",
        "    '''\n",
        "\n",
        "    ### WRITE YOUR CODE HERE - 3 MARKS\n",
        "    x = np.array(x)\n",
        "    y = librosa.feature.mfcc(y = x[0], n_mfcc = n_mfcc, sr = Fs)\n",
        "    X = np.array([y])\n",
        "    for i in range(1, (x.shape)[0]):\n",
        "      y = librosa.feature.mfcc(y = x[i], n_mfcc = n_mfcc, sr = Fs)\n",
        "      y_numpy = np.array([y])\n",
        "      X = np.concatenate((X, y_numpy))\n",
        "      \n",
        "    return X "
      ],
      "execution_count": 5,
      "outputs": []
    },
    {
      "cell_type": "code",
      "metadata": {
        "id": "82O_lN0hjah6"
      },
      "source": [
        "class Classifier: \n",
        "    '''\n",
        "    Create a linear classifier to classify each frame\n",
        "    '''\n",
        "    def __init__(self):\n",
        "        self.W = np.array([])  # define model parameters here\n",
        "\n",
        "    def sigmoid(self, x):\n",
        "      return 1/(1+np.exp(-x))\n",
        "    \n",
        "        \n",
        "    def train(self,x_train, y_train):\n",
        "        '''\n",
        "        Train the linear classifier\n",
        "        Inputs:\n",
        "            x_train: training set\n",
        "            y_train: training labels\n",
        "        Output:\n",
        "            None\n",
        "        '''\n",
        "\n",
        "        ### WRITE YOUR CODE HERE - 0 MARKS\n",
        "        self.W = np.random.randn(x_train.shape[1])\n",
        "        learning_rate = 0.0001\n",
        "        iterations = 100\n",
        "        for i in range(iterations):\n",
        "          delta = 0\n",
        "          for i in range(x_train.shape[0]):\n",
        "            pred = self.sigmoid(np.dot(x_train[i].T, self.W))\n",
        "            actual = y_train[i, 0]*np.ones(pred.shape[0])\n",
        "            delta = delta + np.dot(x_train[i], pred - actual)\n",
        "        \n",
        "          self.W = self.W - learning_rate*delta\n",
        "        \n",
        "        return \n",
        "    \n",
        "    def save_model(self, save_path):\n",
        "        '''\n",
        "        Save the trained model on local disk\n",
        "        Input:\n",
        "            save_path: location at which model is to be saved\n",
        "        Output:\n",
        "            None\n",
        "        '''\n",
        "        \n",
        "        ### WRITE YOUR CODE HERE - 0 MARKS\n",
        "        np.save(save_path+\"/weights\", self.W)\n",
        "\n",
        "        return\n",
        "    \n",
        "    def load_model(self, load_path):\n",
        "        '''\n",
        "        Save the trained model on local disk\n",
        "        Input:\n",
        "            load_path: location from which model is to be loaded\n",
        "        Output:\n",
        "            None\n",
        "        '''\n",
        "        \n",
        "        ### WRITE YOUR CODE HERE - 0 MARKS\n",
        "        self.W = np.load(load_path+\"weights.npy\")\n",
        "        return\n",
        "\n",
        "\n",
        "    \n",
        "    def predict_framewise(self,x_test):\n",
        "        '''\n",
        "        Framewise classification (speech or music)\n",
        "        Input:\n",
        "            x_test: test set\n",
        "        Output:\n",
        "            y_pred_framewise = framewise prediction\n",
        "        '''\n",
        "        \n",
        "\n",
        "        ### WRITE YOUR CODE HERE - 5 MARKS\n",
        "        if(self.W.size==0):\n",
        "          self.W = np.random.randn(x_test.shape[1])\n",
        "\n",
        "        y_1 = np.array(np.sign(self.sigmoid(np.dot(x_test[0].T, self.W))))\n",
        "        y_2 = np.array(1 - np.sign(self.sigmoid(np.dot(x_test[0].T, self.W))))\n",
        "        y_pred_framewise = np.array([[y_1, y_2]])\n",
        "        for i in range(1, x_test.shape[0]):\n",
        "          pred_1 = np.array(np.sign(self.sigmoid(np.dot(x_test[i].T, self.W))))\n",
        "          pred_2 = np.array(1 - np.sign(self.sigmoid(np.dot(x_test[i].T, self.W))))\n",
        "          pred = np.array([[pred_1, pred_2]])\n",
        "          y_pred_framewise = np.concatenate((y_pred_framewise, pred))\n",
        "        return y_pred_framewise \n",
        "    \n",
        "    def predict_aggregate(self,y_pred_framewise):\n",
        "        '''\n",
        "        Aggregate frames to give a single class label (music or speech) to the entire audio file\n",
        "        Input:\n",
        "            y_pred_framewise = framewise prediction\n",
        "        Output:\n",
        "            y_hat = frame aggregate (one-hot vectors)\n",
        "        '''\n",
        "\n",
        "        ### WRITE YOUR CODE HERE - 5 MARKS\n",
        "        length = y_pred_framewise.shape[2]\n",
        "        if(np.sum(y_pred_framewise[0][0]) > length/2):\n",
        "          y_hat = np.array([[1, 0]])\n",
        "        else:\n",
        "          y_hat = np.array([[0, 1]])\n",
        "        \n",
        "        for i in range(1, y_pred_framewise.shape[0]):\n",
        "          if(np.sum(y_pred_framewise[i][0])>length/2):\n",
        "            y_hat = np.concatenate((y_hat, np.array([[1, 0]]) ))\n",
        "          else:\n",
        "            y_hat = np.concatenate((y_hat, np.array([[0, 1]]) ))\n",
        "\n",
        "        return y_hat"
      ],
      "execution_count": 6,
      "outputs": []
    },
    {
      "cell_type": "code",
      "metadata": {
        "id": "nSoDLOnHjah8"
      },
      "source": [
        "def computeCM(y, y_hat):\n",
        "    '''\n",
        "    Compute confusion matrix to evaluate your model\n",
        "    Inputs:\n",
        "        y = labels \n",
        "        y_hat = predicted output\n",
        "    Output:\n",
        "        confusion matrix: confusion matrix\n",
        "    '''\n",
        "\n",
        "    ### WRITE YOUR CODE HERE - 5 MARKS\n",
        "    confusion_matrix = np.zeros((2, 2))\n",
        "    n = y.shape[0]\n",
        "    for i in range(n):\n",
        "      confusion_matrix[int(y[i, 0]), int(y_hat[i, 0])] = confusion_matrix[int(y[i, 0]), int(y_hat[i, 0])] + 1\n",
        "\n",
        "    return confusion_matrix "
      ],
      "execution_count": 7,
      "outputs": []
    },
    {
      "cell_type": "code",
      "metadata": {
        "id": "IM0AHSwyUW2C"
      },
      "source": [
        "Fs = 16000"
      ],
      "execution_count": 8,
      "outputs": []
    },
    {
      "cell_type": "code",
      "metadata": {
        "id": "RhJ_-ibOjah8",
        "colab": {
          "base_uri": "https://localhost:8080/"
        },
        "outputId": "1e228a8f-498a-4703-f178-3d3ebb0d1fc2"
      },
      "source": [
        "if __name__==\"__main__\":\n",
        "    \n",
        "    # Read audio\n",
        "    x_music = readDir('music_wavs', Fs)    #change it as per your directory\n",
        "    x_speech = readDir('speech_wavs', Fs)  #change it as per your directory\n",
        "    X = np.concatenate((x_music, x_speech))\n",
        "    \n",
        "    # Create labels\n",
        "    y_music = np.array([[1,0]]*len(x_music))\n",
        "    y_speech = np.array([[0,1]]*len(x_speech))\n",
        "    Y = np.concatenate((y_music, y_speech))\n",
        "    \n",
        "    \n",
        "    X_train, y_train, X_test, y_test = splitData(X, Y)\n",
        "    \n",
        "    # TRAINING \n",
        "    x_train = audio2mfcc(X_train, Fs)    # x_train: (Nclips, N_mfcc, N_frames)\n",
        "    model = Classifier()\n",
        "    model.train(x_train, y_train)        # y_train: (Nclips, 2) -repeat it N_frames times inside the train\n",
        "    \n",
        "    # TESTING \n",
        "    x_test = audio2mfcc(X_test, Fs) \n",
        "    y_pred = model.predict_framewise(x_test)   # y_predict: (Nclips, 2, N_frames)\n",
        "    y_hat = model.predict_aggregate(y_pred)    # y_hat: (Nclips, 2)\n",
        "    \n",
        "   # EVALUATION METRICS \n",
        "    confusion_matrix = computeCM(y_test, y_hat) \n",
        "    print(confusion_matrix) "
      ],
      "execution_count": 9,
      "outputs": [
        {
          "output_type": "stream",
          "name": "stderr",
          "text": [
            "/usr/local/lib/python3.7/dist-packages/ipykernel_launcher.py:9: RuntimeWarning: overflow encountered in exp\n",
            "  if __name__ == '__main__':\n"
          ]
        },
        {
          "output_type": "stream",
          "name": "stdout",
          "text": [
            "[[0. 0.]\n",
            " [0. 4.]]\n"
          ]
        }
      ]
    }
  ]
}